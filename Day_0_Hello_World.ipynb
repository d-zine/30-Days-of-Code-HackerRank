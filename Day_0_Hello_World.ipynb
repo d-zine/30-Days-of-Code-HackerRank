{
 "cells": [
  {
   "cell_type": "markdown",
   "metadata": {},
   "source": [
    "Task:\n",
    "To complete this challenge, you must save a line of input from stdin='Welcome to 30 days of Code!' to a variable, print \"Hello, World\" on a single line, and finally print the value of your variable on a second line."
   ]
  },
  {
   "cell_type": "code",
   "execution_count": 13,
   "metadata": {},
   "outputs": [
    {
     "name": "stdout",
     "output_type": "stream",
     "text": [
      "Welcome to 30 days of Code!\n"
     ]
    }
   ],
   "source": [
    "# Read a full line of input from stdin and save it to our dynamically typed variable, input_string.\n",
    "input_string = input()"
   ]
  },
  {
   "cell_type": "code",
   "execution_count": 14,
   "metadata": {},
   "outputs": [],
   "source": [
    "# Print a string literal saying \"Hello, World.\" to stdout.\n",
    "stdout='Hello, World.'"
   ]
  },
  {
   "cell_type": "code",
   "execution_count": 15,
   "metadata": {},
   "outputs": [
    {
     "name": "stdout",
     "output_type": "stream",
     "text": [
      "Welcome to 30 days of Code!\n",
      "Hello, World.\n"
     ]
    }
   ],
   "source": [
    "# TODO: Write a line of code here that prints the contents of input_string to stdout.\n",
    "print(input_string)\n",
    "print(stdout)"
   ]
  }
 ],
 "metadata": {
  "kernelspec": {
   "display_name": "Python 3",
   "language": "python",
   "name": "python3"
  },
  "language_info": {
   "codemirror_mode": {
    "name": "ipython",
    "version": 3
   },
   "file_extension": ".py",
   "mimetype": "text/x-python",
   "name": "python",
   "nbconvert_exporter": "python",
   "pygments_lexer": "ipython3",
   "version": "3.8.3"
  }
 },
 "nbformat": 4,
 "nbformat_minor": 4
}
