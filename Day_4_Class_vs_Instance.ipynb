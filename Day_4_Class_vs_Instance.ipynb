{
 "cells": [
  {
   "cell_type": "markdown",
   "metadata": {},
   "source": [
    "Objective\n",
    "\n",
    "In this challenge, we're going to learn about the difference between a class and an instance; \n",
    "because this is an Object Oriented concept, it's only enabled in certain languages. Check out \n",
    "the Tutorial tab for learning materials and an instructional video!\n",
    "\n",
    "Task\n",
    "Write a Person class with an instance variable, age, and a constructor that takes an integer, initialAge, \n",
    "as a parameter. The constructor must assign initialAge to age after confirming the argument passed as \n",
    "initialAge is not negative; if a negative argument is passed as initialAge, the constructor should set \n",
    "age to 0 and print 'Age is not valid, setting age to 0.'. In addition, you must write the following instance \n",
    "methods:\n",
    "\n",
    "1. yearPasses() should increase the age instance variable by 1.\n",
    "2. amIOld() should perform the following conditional actions:\n",
    "\n",
    "    a. If age <13, print 'You are young.'.\n",
    "    \n",
    "    b. If age>=13 and age<18, print 'You are a teenager.'.\n",
    "    \n",
    "    c. Otherwise, print 'You are old.'."
   ]
  },
  {
   "cell_type": "code",
   "execution_count": 2,
   "metadata": {},
   "outputs": [
    {
     "name": "stdout",
     "output_type": "stream",
     "text": [
      "4\n",
      "-1\n",
      "Age is not valid, setting age to 0.\n",
      "You are young.\n",
      "You are young.\n",
      "\n",
      "10\n",
      "You are young.\n",
      "You are a teenager.\n",
      "\n",
      "16\n",
      "You are a teenager.\n",
      "You are old.\n",
      "\n",
      "18\n",
      "You are old.\n",
      "You are old.\n",
      "\n"
     ]
    }
   ],
   "source": [
    "class Person:\n",
    "    def __init__(self,initialAge):\n",
    "        # Add some more code to run some checks on initialAge\n",
    "        if initialAge < 0:\n",
    "            self.age = 0\n",
    "            print(\"Age is not valid, setting age to 0.\")\n",
    "        else:\n",
    "            self.age = initialAge\n",
    "    def amIOld(self):\n",
    "        # Do some computations in here and print out the correct statement to the console\n",
    "        if self.age < 13:\n",
    "            print(\"You are young.\")\n",
    "        elif 13 <= self.age <18:\n",
    "            print(\"You are a teenager.\")\n",
    "        else:\n",
    "            print(\"You are old.\")\n",
    "    def yearPasses(self):\n",
    "        # Increment the age of the person in here\n",
    "        self.age += 1\n",
    "\n",
    "t = int(input())\n",
    "for i in range(0, t):\n",
    "    age = int(input())         \n",
    "    p = Person(age)  \n",
    "    p.amIOld()\n",
    "    for j in range(0, 3):\n",
    "        p.yearPasses()       \n",
    "    p.amIOld()\n",
    "    print(\"\")"
   ]
  }
 ],
 "metadata": {
  "kernelspec": {
   "display_name": "Python 3",
   "language": "python",
   "name": "python3"
  },
  "language_info": {
   "codemirror_mode": {
    "name": "ipython",
    "version": 3
   },
   "file_extension": ".py",
   "mimetype": "text/x-python",
   "name": "python",
   "nbconvert_exporter": "python",
   "pygments_lexer": "ipython3",
   "version": "3.8.3"
  }
 },
 "nbformat": 4,
 "nbformat_minor": 4
}
