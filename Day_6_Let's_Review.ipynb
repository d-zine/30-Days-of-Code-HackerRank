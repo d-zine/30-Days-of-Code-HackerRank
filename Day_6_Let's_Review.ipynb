{
 "cells": [
  {
   "cell_type": "markdown",
   "metadata": {},
   "source": [
    "Task\n",
    "\n",
    "Given a string, S, of length N that is indexed from 0 to N-1, print its even-indexed and odd-indexed characters as 2 space-separated strings on a single line (see the Sample below for more detail).\n",
    "\n",
    "Note: 0 is considered to be an even index.\n",
    "\n",
    "Example\n",
    "\n",
    "s=adbecf\n",
    "\n",
    "Print abc def\n",
    "\n",
    "Input Format\n",
    "\n",
    "The first line contains an integer, T (the number of test cases).\n",
    "Each line i of the T subsequent lines contain a string, S.\n",
    "\n",
    "Constraints\n",
    "\n",
    "1<=T<=10\n",
    "2<=length of S<=10000\n",
    "\n",
    "Output Format\n",
    "\n",
    "For each String S (where 0<=j<=T-1), print S's even-indexed characters, followed by a space, followed by S's odd-indexed characters."
   ]
  },
  {
   "cell_type": "code",
   "execution_count": 3,
   "metadata": {},
   "outputs": [
    {
     "name": "stdout",
     "output_type": "stream",
     "text": [
      "2\n",
      "Hacker\n",
      "Rank\n",
      "Hce akr\n",
      "Rn ak\n"
     ]
    }
   ],
   "source": [
    "N=int(input()) \n",
    "x=[]\n",
    "for i in range(0,N):\n",
    "    s=input() \n",
    "    x.append(s) \n",
    "    \n",
    "for i in range(0,N):\n",
    "    for j in range(0,len(x[i]),2):\n",
    "        print(x[i][j],end='')\n",
    "    print(end=' ')\n",
    "    for j in range(1,len(x[i]),2):\n",
    "         print(x[i][j],end='')\n",
    "    print()"
   ]
  },
  {
   "cell_type": "code",
   "execution_count": null,
   "metadata": {},
   "outputs": [],
   "source": []
  }
 ],
 "metadata": {
  "kernelspec": {
   "display_name": "Python 3",
   "language": "python",
   "name": "python3"
  },
  "language_info": {
   "codemirror_mode": {
    "name": "ipython",
    "version": 3
   },
   "file_extension": ".py",
   "mimetype": "text/x-python",
   "name": "python",
   "nbconvert_exporter": "python",
   "pygments_lexer": "ipython3",
   "version": "3.8.3"
  }
 },
 "nbformat": 4,
 "nbformat_minor": 4
}
