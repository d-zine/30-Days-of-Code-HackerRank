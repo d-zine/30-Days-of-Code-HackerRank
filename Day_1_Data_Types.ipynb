{
 "cells": [
  {
   "cell_type": "markdown",
   "metadata": {},
   "source": [
    "Task\n",
    "Complete the code in the editor below. The variables i, d, and s are already declared and initialized for you. You must:\n",
    "1. Declare  variables: one of type int, one of type double, and one of type String.\n",
    "2. Read  lines of input from stdin (according to the sequence given in the Input Format section below) and initialize your  variables.\n",
    "3. Use the  operator to perform the following operations:\n",
    "    1. Print the sum of  plus your int variable on a new line.\n",
    "    2. Print the sum of  plus your double variable to a scale of one decimal place on a new line.\n",
    "    3. Concatenate  with the string you read as input and print the result on a new line.\n",
    "Note: If you are using a language that doesn't support using  for string concatenation (e.g.: C), you can just print one variable immediately following the other on the same line. The string provided in your editor must be printed first, immediately followed by the string you read as input."
   ]
  },
  {
   "cell_type": "code",
   "execution_count": 2,
   "metadata": {},
   "outputs": [],
   "source": [
    "i = 4\n",
    "d = 4.0\n",
    "s = 'HackerRank '"
   ]
  },
  {
   "cell_type": "code",
   "execution_count": 3,
   "metadata": {},
   "outputs": [
    {
     "name": "stdout",
     "output_type": "stream",
     "text": [
      "12\n",
      "4\n",
      "is the best place to learn and practice coding!\n"
     ]
    }
   ],
   "source": [
    "# Declare second integer, double, and String variables.\n",
    "# Read and save an integer, double, and String to your variables.\n",
    "integer=int(input())\n",
    "double=float(input())\n",
    "string=str(input())"
   ]
  },
  {
   "cell_type": "code",
   "execution_count": 4,
   "metadata": {},
   "outputs": [
    {
     "name": "stdout",
     "output_type": "stream",
     "text": [
      "16\n",
      "8.0\n",
      "HackerRank is the best place to learn and practice coding!\n"
     ]
    }
   ],
   "source": [
    "# Print the sum of both integer variables on a new line.\n",
    "print(i + integer)\n",
    "# Print the sum of the double variables on a new line.\n",
    "print(d+double)\n",
    "# Concatenate and print the String variables on a new line\n",
    "# The 's' variable above should be printed first.\n",
    "print(s+string)"
   ]
  }
 ],
 "metadata": {
  "kernelspec": {
   "display_name": "Python 3",
   "language": "python",
   "name": "python3"
  },
  "language_info": {
   "codemirror_mode": {
    "name": "ipython",
    "version": 3
   },
   "file_extension": ".py",
   "mimetype": "text/x-python",
   "name": "python",
   "nbconvert_exporter": "python",
   "pygments_lexer": "ipython3",
   "version": "3.8.3"
  }
 },
 "nbformat": 4,
 "nbformat_minor": 4
}
