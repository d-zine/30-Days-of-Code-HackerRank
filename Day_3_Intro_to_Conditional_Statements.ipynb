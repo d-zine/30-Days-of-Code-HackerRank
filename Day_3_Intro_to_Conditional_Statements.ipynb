{
 "cells": [
  {
   "cell_type": "markdown",
   "metadata": {},
   "source": [
    "Objective\n",
    "\n",
    "In this challenge, we learn about conditional statements. Check out the Tutorial tab for learning materials and an instructional video.\n",
    "\n",
    "Task\n",
    "\n",
    "Given an integer, , perform the following conditional actions:\n",
    "\n",
    "If N is odd, print Weird\n",
    "\n",
    "If N is even and in the inclusive range of 2 to 5, print Not Weird\n",
    "\n",
    "If N is even and in the inclusive range of 6 to 20, print Weird\n",
    "\n",
    "If N is even and greater than 20, print Not Weird\n",
    "\n",
    "Complete the stub code provided in your editor to print whether or not  is weird."
   ]
  },
  {
   "cell_type": "markdown",
   "metadata": {},
   "source": [
    "Input Format\n",
    "\n",
    "A single line containing a positive integer, .\n",
    "\n",
    "Constraints\n",
    "\n",
    "1<=N<=20\n",
    "\n",
    "Output Format\n",
    "\n",
    "Print Weird if the number is weird; otherwise, print Not Weird."
   ]
  },
  {
   "cell_type": "code",
   "execution_count": 1,
   "metadata": {},
   "outputs": [
    {
     "name": "stdout",
     "output_type": "stream",
     "text": [
      "3\n",
      "Weird\n"
     ]
    }
   ],
   "source": [
    "#!/bin/python3\n",
    "\n",
    "import math\n",
    "import os\n",
    "import random\n",
    "import re\n",
    "import sys\n",
    "\n",
    "\n",
    "\n",
    "if __name__ == '__main__':\n",
    "    N = int(input().strip())\n",
    "if (N%2)!=0:\n",
    "    print('Weird')\n",
    "elif (N%2==0) & 2<=N<=5:\n",
    "    print('Not Weird')\n",
    "elif (N%2==0) & 6<=N<=20:\n",
    "    print('Weird')\n",
    "else:\n",
    "    print('Not Weird')"
   ]
  }
 ],
 "metadata": {
  "kernelspec": {
   "display_name": "Python 3",
   "language": "python",
   "name": "python3"
  },
  "language_info": {
   "codemirror_mode": {
    "name": "ipython",
    "version": 3
   },
   "file_extension": ".py",
   "mimetype": "text/x-python",
   "name": "python",
   "nbconvert_exporter": "python",
   "pygments_lexer": "ipython3",
   "version": "3.8.3"
  }
 },
 "nbformat": 4,
 "nbformat_minor": 4
}
