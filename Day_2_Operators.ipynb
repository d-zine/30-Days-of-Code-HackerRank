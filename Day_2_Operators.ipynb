{
 "cells": [
  {
   "cell_type": "markdown",
   "metadata": {},
   "source": [
    "Task\n",
    "\n",
    "Given the meal price (base cost of a meal), tip percent (the percentage of the meal price being added as tip), and tax percent (the percentage of the meal price being added as tax) for a meal, find and print the meal's total cost. Round the result to the nearest integer.\n",
    "\n",
    "meal_cost=100\n",
    "\n",
    "tip_percent=15\n",
    "\n",
    "tax_percent=8\n",
    "\n",
    "A tip of 15% * 100 = 15, and the taxes are 8% * 100 = 8. Print the value  and return from the function."
   ]
  },
  {
   "cell_type": "markdown",
   "metadata": {},
   "source": [
    "Complete the solve function in the editor below.\n",
    "\n",
    "Solve has the following parameters:\n",
    "\n",
    "int meal_cost: the cost of food before tip and tax\n",
    "\n",
    "int tip_percent: the tip percentage\n",
    "\n",
    "int tax_percent: the tax percentage\n",
    "\n",
    "Returns The function returns nothing. Print the calculated value, rounded to the nearest integer.\n",
    "\n",
    "Note: Be sure to use precise values for your calculations, or you may end up with an incorrectly rounded result."
   ]
  },
  {
   "cell_type": "code",
   "execution_count": 1,
   "metadata": {},
   "outputs": [
    {
     "name": "stdout",
     "output_type": "stream",
     "text": [
      "100\n",
      "15\n",
      "8\n",
      "123\n"
     ]
    }
   ],
   "source": [
    "#!/bin/python3\n",
    "\n",
    "import math\n",
    "import os\n",
    "import random\n",
    "import re\n",
    "import sys\n",
    "\n",
    "#\n",
    "# Complete the 'solve' function below.\n",
    "#\n",
    "# The function accepts following parameters:\n",
    "#  1. DOUBLE meal_cost\n",
    "\n",
    "#  2. INTEGER tip_percent\n",
    "\n",
    "#  3. INTEGER tax_percent\n",
    "\n",
    "\n",
    "def solve(meal_cost, tip_percent, tax_percent):\n",
    "    # Write your code here\n",
    "    tip = meal_cost * tip_percent / 100\n",
    "    tax = meal_cost * tax_percent / 100\n",
    "    total_meal_cost = meal_cost + tip + tax\n",
    "    \n",
    "    print(round(total_meal_cost))\n",
    "    \n",
    "if __name__ == '__main__':\n",
    "    meal_cost = float(input())\n",
    "\n",
    "    tip_percent = int(input())\n",
    "\n",
    "    tax_percent = int(input())\n",
    "\n",
    "    solve(meal_cost, tip_percent, tax_percent)\n"
   ]
  }
 ],
 "metadata": {
  "kernelspec": {
   "display_name": "Python 3",
   "language": "python",
   "name": "python3"
  },
  "language_info": {
   "codemirror_mode": {
    "name": "ipython",
    "version": 3
   },
   "file_extension": ".py",
   "mimetype": "text/x-python",
   "name": "python",
   "nbconvert_exporter": "python",
   "pygments_lexer": "ipython3",
   "version": "3.8.3"
  }
 },
 "nbformat": 4,
 "nbformat_minor": 4
}
