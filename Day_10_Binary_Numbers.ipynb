{
 "cells": [
  {
   "cell_type": "markdown",
   "metadata": {},
   "source": [
    "Task\n",
    "\n",
    "Given a base-10 integer, n, convert it to binary (base-2). Then find and print the base-10 integer denoting the maximum number of consecutive 1's in n's binary representation. When working with different bases, it is common to show the base as a subscript.\n",
    "\n",
    "Example\n",
    "n=125\n",
    "\n",
    "The binary representation of 125 is 11111101. In base 10, there are 5 and 1 consecutive ones in two groups. Print the maximum, 5.\n",
    "\n",
    "Input Format\n",
    "\n",
    "A single integer, n.\n",
    "\n",
    "Constraints\n",
    "\n",
    "1<=n<=10^6\n",
    "\n",
    "Output Format\n",
    "\n",
    "Print a single base-10 integer that denotes the maximum number of consecutive 1's in the binary representation of n."
   ]
  },
  {
   "cell_type": "code",
   "execution_count": 1,
   "metadata": {},
   "outputs": [
    {
     "name": "stdout",
     "output_type": "stream",
     "text": [
      "5\n",
      "1\n"
     ]
    }
   ],
   "source": [
    "#!/bin/python3\n",
    "\n",
    "import math\n",
    "import os\n",
    "import random\n",
    "import re\n",
    "import sys\n",
    "\n",
    "\n",
    "\n",
    "if __name__ == '__main__':\n",
    "    n = int(input().strip())\n",
    "\n",
    "    binary=str(bin(n))\n",
    "    \n",
    "    currentmax=0\n",
    "    count=0\n",
    "    \n",
    "    for i in binary:\n",
    "        if i == '1':\n",
    "            count+=1\n",
    "        else:\n",
    "            currentmax=max(count,currentmax)\n",
    "            count=0\n",
    "    print(max(count,currentmax))"
   ]
  },
  {
   "cell_type": "code",
   "execution_count": null,
   "metadata": {},
   "outputs": [],
   "source": []
  }
 ],
 "metadata": {
  "kernelspec": {
   "display_name": "Python 3",
   "language": "python",
   "name": "python3"
  },
  "language_info": {
   "codemirror_mode": {
    "name": "ipython",
    "version": 3
   },
   "file_extension": ".py",
   "mimetype": "text/x-python",
   "name": "python",
   "nbconvert_exporter": "python",
   "pygments_lexer": "ipython3",
   "version": "3.8.3"
  }
 },
 "nbformat": 4,
 "nbformat_minor": 4
}
