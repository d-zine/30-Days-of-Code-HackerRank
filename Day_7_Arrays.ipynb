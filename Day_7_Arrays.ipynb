{
 "cells": [
  {
   "cell_type": "markdown",
   "metadata": {},
   "source": [
    "Task\n",
    "\n",
    "Given an array, A, of N integers, print A's elements in reverse order as a single line of space-separated numbers.\n",
    "\n",
    "Example\n",
    "\n",
    "A=[1,2,3,4]\n",
    "\n",
    "Print 4 3 2 1. Each integer is separated by one space.\n",
    "\n",
    "Input Format\n",
    "\n",
    "The first line contains an integer, N (the size of our array).\n",
    "The second line contains N space-separated integers that describe array A's elements.\n",
    "\n",
    "Constraints\n",
    "\n",
    "Constraints\n",
    "1<=N<=1000\n",
    "\n",
    "1<=A[i]<=10000 where A[i] is the ith integer in the array.\n",
    "\n",
    "\n",
    "Output Format\n",
    "\n",
    "Print the elements of array A in reverse order as a single line of space-separated numbers."
   ]
  },
  {
   "cell_type": "code",
   "execution_count": 2,
   "metadata": {},
   "outputs": [
    {
     "name": "stdout",
     "output_type": "stream",
     "text": [
      "4\n",
      "1 4 3 2\n",
      "2 3 4 1 "
     ]
    }
   ],
   "source": [
    "#!/bin/python3\n",
    "\n",
    "import math\n",
    "import os\n",
    "import random\n",
    "import re\n",
    "import sys\n",
    "\n",
    "\n",
    "\n",
    "if __name__ == '__main__':\n",
    "    n = int(input().strip())\n",
    "\n",
    "    arr = list(map(int, input().rstrip().split()))\n",
    "\n",
    "    i=len(arr)-1\n",
    "    while i>=0:\n",
    "        print(arr[i], end=' ')\n",
    "        i-=1"
   ]
  },
  {
   "cell_type": "code",
   "execution_count": null,
   "metadata": {},
   "outputs": [],
   "source": []
  }
 ],
 "metadata": {
  "kernelspec": {
   "display_name": "Python 3",
   "language": "python",
   "name": "python3"
  },
  "language_info": {
   "codemirror_mode": {
    "name": "ipython",
    "version": 3
   },
   "file_extension": ".py",
   "mimetype": "text/x-python",
   "name": "python",
   "nbconvert_exporter": "python",
   "pygments_lexer": "ipython3",
   "version": "3.8.3"
  }
 },
 "nbformat": 4,
 "nbformat_minor": 4
}
